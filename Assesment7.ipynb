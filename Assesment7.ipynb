{
 "cells": [
  {
   "cell_type": "code",
   "execution_count": 1,
   "id": "40f6144a-c0bd-48c5-a6c0-c2b584c5f9f4",
   "metadata": {},
   "outputs": [
    {
     "name": "stdout",
     "output_type": "stream",
     "text": [
      "True\n"
     ]
    }
   ],
   "source": [
    "# Question1:\n",
    "\n",
    "def is_isomorphic(s, t):\n",
    "    if len(s) != len(t):\n",
    "        return False\n",
    "    \n",
    "    s_map = {}\n",
    "    t_map = {}\n",
    "    \n",
    "    for i in range(len(s)):\n",
    "        s_char = s[i]\n",
    "        t_char = t[i]\n",
    "        \n",
    "        if s_char in s_map:\n",
    "            if s_map[s_char] != t_char:\n",
    "                return False\n",
    "        else:\n",
    "            s_map[s_char] = t_char\n",
    "        \n",
    "        if t_char in t_map:\n",
    "            if t_map[t_char] != s_char:\n",
    "                return False\n",
    "        else:\n",
    "            t_map[t_char] = s_char\n",
    "    \n",
    "    return True\n",
    "\n",
    "s = \"egg\"\n",
    "t = \"add\"\n",
    "print(is_isomorphic(s, t))  # Output: True\n"
   ]
  },
  {
   "cell_type": "code",
   "execution_count": 2,
   "id": "bc4b2611-8026-49f4-9c0b-7e4a16661f26",
   "metadata": {},
   "outputs": [
    {
     "name": "stdout",
     "output_type": "stream",
     "text": [
      "True\n"
     ]
    }
   ],
   "source": [
    "# Question2:\n",
    "\n",
    "def is_strobogrammatic(num):\n",
    "    strobogrammatic_pairs = {\n",
    "        '0': '0',\n",
    "        '1': '1',\n",
    "        '6': '9',\n",
    "        '8': '8',\n",
    "        '9': '6'\n",
    "    }\n",
    "    left = 0\n",
    "    right = len(num) - 1\n",
    "\n",
    "    while left <= right:\n",
    "        if num[left] not in strobogrammatic_pairs or strobogrammatic_pairs[num[left]] != num[right]:\n",
    "            return False\n",
    "        left += 1\n",
    "        right -= 1\n",
    "\n",
    "    return True\n",
    "\n",
    "num = \"69\"\n",
    "result = is_strobogrammatic(num)\n",
    "print(result)\n"
   ]
  },
  {
   "cell_type": "code",
   "execution_count": 3,
   "id": "7a14b3b8-9682-4a5c-818a-8921cb3fa9ab",
   "metadata": {},
   "outputs": [
    {
     "name": "stdout",
     "output_type": "stream",
     "text": [
      "134\n"
     ]
    }
   ],
   "source": [
    "# Question3:\n",
    "\n",
    "def addStrings(num1: str, num2: str) -> str:\n",
    "    i = len(num1) - 1\n",
    "    j = len(num2) - 1\n",
    "    carry = 0\n",
    "    result = \"\"\n",
    "\n",
    "    while i >= 0 or j >= 0:\n",
    "        digit1 = int(num1[i]) if i >= 0 else 0\n",
    "        digit2 = int(num2[j]) if j >= 0 else 0\n",
    "        current_sum = digit1 + digit2 + carry\n",
    "        carry = current_sum // 10\n",
    "        current_digit = current_sum % 10\n",
    "        result = str(current_digit) + result\n",
    "        i -= 1\n",
    "        j -= 1\n",
    "\n",
    "    if carry > 0:\n",
    "        result = str(carry) + result\n",
    "\n",
    "    return result\n",
    "\n",
    "num1 = \"11\"\n",
    "num2 = \"123\"\n",
    "print(addStrings(num1, num2))  "
   ]
  },
  {
   "cell_type": "code",
   "execution_count": 4,
   "id": "083c17cd-8de1-47ba-912d-1cf1b8c0a9b8",
   "metadata": {},
   "outputs": [
    {
     "name": "stdout",
     "output_type": "stream",
     "text": [
      "s'teL ekat edoCteeL tsetnoc\n"
     ]
    }
   ],
   "source": [
    "# Question4:\n",
    "\n",
    "def reverseWords(s: str) -> str:\n",
    "    words = s.split()\n",
    "    reversed_words = []\n",
    "\n",
    "    for word in words:\n",
    "        reversed_word = word[::-1]\n",
    "        reversed_words.append(reversed_word)\n",
    "\n",
    "    reversed_string = ' '.join(reversed_words)\n",
    "    return reversed_string\n",
    "\n",
    "s = \"Let's take LeetCode contest\"\n",
    "print(reverseWords(s))  \n"
   ]
  },
  {
   "cell_type": "code",
   "execution_count": 5,
   "id": "b68ca973-e29a-459c-b148-f628a0b28ec3",
   "metadata": {},
   "outputs": [
    {
     "name": "stdout",
     "output_type": "stream",
     "text": [
      "bacdfeg\n"
     ]
    }
   ],
   "source": [
    "# Question5:\n",
    "\n",
    "def reverseStr(s: str, k: int) -> str:\n",
    "    chars = list(s)\n",
    "    n = len(s)\n",
    "\n",
    "    for i in range(0, n, 2*k):\n",
    "        left = i\n",
    "        right = min(i + k - 1, n - 1)\n",
    "\n",
    "        while left < right:\n",
    "            chars[left], chars[right] = chars[right], chars[left]\n",
    "            left += 1\n",
    "            right -= 1\n",
    "\n",
    "    return ''.join(chars)\n",
    "\n",
    "s = \"abcdefg\"\n",
    "k = 2\n",
    "print(reverseStr(s, k)) \n"
   ]
  },
  {
   "cell_type": "code",
   "execution_count": 7,
   "id": "8f54555b-d431-4003-9e08-5ca70a26a843",
   "metadata": {},
   "outputs": [
    {
     "name": "stdout",
     "output_type": "stream",
     "text": [
      "True\n"
     ]
    }
   ],
   "source": [
    "# Question6:\n",
    "\n",
    "def rotateString(s: str, goal: str) -> bool:\n",
    "    s_concat = s + s\n",
    "    return goal in s_concat\n",
    "s = \"abcde\"\n",
    "goal = \"cdeab\"\n",
    "print(rotateString(s, goal))  # Output: True\n"
   ]
  },
  {
   "cell_type": "code",
   "execution_count": 8,
   "id": "bcd172e2-1284-4f25-b0c6-6077ef0589c4",
   "metadata": {},
   "outputs": [
    {
     "name": "stdout",
     "output_type": "stream",
     "text": [
      "True\n"
     ]
    }
   ],
   "source": [
    "# Question7:\n",
    "\n",
    "def backspaceCompare(s: str, t: str) -> bool:\n",
    "    stack_s = []\n",
    "    stack_t = []\n",
    "\n",
    "    for char in s:\n",
    "        if char != '#':\n",
    "            stack_s.append(char)\n",
    "        elif stack_s:\n",
    "            stack_s.pop()\n",
    "\n",
    "    for char in t:\n",
    "        if char != '#':\n",
    "            stack_t.append(char)\n",
    "        elif stack_t:\n",
    "            stack_t.pop()\n",
    "\n",
    "    return stack_s == stack_t\n",
    "s = \"ab#c\"\n",
    "t = \"ad#c\"\n",
    "print(backspaceCompare(s, t))  # Output: True\n"
   ]
  },
  {
   "cell_type": "code",
   "execution_count": 9,
   "id": "f1c7f9f9-70f0-4e65-8dc8-0ae75255a278",
   "metadata": {},
   "outputs": [
    {
     "name": "stdout",
     "output_type": "stream",
     "text": [
      "True\n"
     ]
    },
    {
     "data": {
      "image/png": "[encoded data removed]",
      "text/plain": [
       "<Figure size 640x480 with 1 Axes>"
      ]
     },
     "metadata": {},
     "output_type": "display_data"
    }
   ],
   "source": [
    "# Question8:\n",
    "\n",
    "def checkStraightLine(coordinates):\n",
    "    if len(coordinates) < 3:\n",
    "        return True\n",
    "\n",
    "    slope1 = (coordinates[1][1] - coordinates[0][1]) / (coordinates[1][0] - coordinates[0][0])\n",
    "\n",
    "    for i in range(2, len(coordinates)):\n",
    "        slope2 = (coordinates[i][1] - coordinates[i-1][1]) / (coordinates[i][0] - coordinates[i-1][0])\n",
    "        if slope1 != slope2:\n",
    "            return False\n",
    "\n",
    "    return True\n",
    "coordinates = [[1,2],[2,3],[3,4],[4,5],[5,6],[6,7]]\n",
    "print(checkStraightLine(coordinates)) \n",
    "\n",
    "import matplotlib.pyplot as plt\n",
    "\n",
    "# Extract x and y coordinates from the input list\n",
    "x_coords = [coord[0] for coord in coordinates]\n",
    "y_coords = [coord[1] for coord in coordinates]\n",
    "\n",
    "# Plot the points\n",
    "plt.scatter(x_coords, y_coords)\n",
    "plt.xlabel('X')\n",
    "plt.ylabel('Y')\n",
    "plt.title('XY Plane')\n",
    "plt.grid(True)\n",
    "plt.show()\n"
   ]
  },
  {
   "cell_type": "code",
   "execution_count": null,
   "id": "657a9e20-cc80-4568-baac-07cb25b062a4",
   "metadata": {},
   "outputs": [],
   "source": []
  }
 ],
 "metadata": {
  "kernelspec": {
   "display_name": "Python 3 (ipykernel)",
   "language": "python",
   "name": "python3"
  },
  "language_info": {
   "codemirror_mode": {
    "name": "ipython",
    "version": 3
   },
   "file_extension": ".py",
   "mimetype": "text/x-python",
   "name": "python",
   "nbconvert_exporter": "python",
   "pygments_lexer": "ipython3",
   "version": "3.10.6"
  }
 },
 "nbformat": 4,
 "nbformat_minor": 5
}
