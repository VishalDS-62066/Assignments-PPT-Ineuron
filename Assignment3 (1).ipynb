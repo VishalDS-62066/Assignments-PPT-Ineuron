{
 "cells": [
  {
   "cell_type": "code",
   "execution_count": 1,
   "id": "7d73d5c4-3b1e-4285-b054-793fe221f921",
   "metadata": {},
   "outputs": [
    {
     "name": "stdout",
     "output_type": "stream",
     "text": [
      "2\n"
     ]
    }
   ],
   "source": [
    "# Question1:\n",
    "\n",
    "def threeSumClosest(nums, target):\n",
    "    nums.sort()\n",
    "    n = len(nums)\n",
    "    closestSum = float('inf')\n",
    "\n",
    "    for i in range(n - 2):\n",
    "        left = i + 1\n",
    "        right = n - 1\n",
    "\n",
    "        while left < right:\n",
    "            curSum = nums[i] + nums[left] + nums[right]\n",
    "\n",
    "            if abs(curSum - target) < abs(closestSum - target):\n",
    "                closestSum = curSum\n",
    "\n",
    "            if curSum < target:\n",
    "                left += 1\n",
    "            elif curSum > target:\n",
    "                right -= 1\n",
    "            else:\n",
    "                return curSum\n",
    "\n",
    "    return closestSum\n",
    "\n",
    "result = threeSumClosest([-1, 2, 1, -4], 1)\n",
    "print(result)\n"
   ]
  },
  {
   "cell_type": "code",
   "execution_count": 2,
   "id": "9a5d20de-5253-4744-9531-861eeb04cd6f",
   "metadata": {},
   "outputs": [
    {
     "name": "stdout",
     "output_type": "stream",
     "text": [
      "[[-2, -1, 1, 2], [-2, 0, 0, 2], [-1, 0, 0, 1]]\n"
     ]
    }
   ],
   "source": [
    "# Question2:\n",
    "\n",
    "def fourSum(nums, target):\n",
    "    nums.sort()\n",
    "    result = []\n",
    "    findQuadruplets(nums, target, 0, 0, [], result)\n",
    "    return result\n",
    "\n",
    "def findQuadruplets(nums, target, start, count, current, result):\n",
    "    if count == 4:\n",
    "        if sum(current) == target:\n",
    "            result.append(current[:])\n",
    "        return\n",
    "\n",
    "    for i in range(start, len(nums)):\n",
    "        if i > start and nums[i] == nums[i-1]:\n",
    "            continue\n",
    "\n",
    "        current.append(nums[i])\n",
    "        findQuadruplets(nums, target, i+1, count+1, current, result)\n",
    "        current.pop()\n",
    "\n",
    "# Test the function\n",
    "nums = [1, 0, -1, 0, -2, 2]\n",
    "target = 0\n",
    "print(fourSum(nums, target))\n"
   ]
  },
  {
   "cell_type": "code",
   "execution_count": 3,
   "id": "3eb071b5-b57e-4b5a-a58c-f028cab01dbb",
   "metadata": {},
   "outputs": [
    {
     "name": "stdout",
     "output_type": "stream",
     "text": [
      "[1, 3, 2]\n"
     ]
    }
   ],
   "source": [
    "# Question3:\n",
    "\n",
    "def nextPermutation(nums):\n",
    "    # Step 1: Find the first pair from the right where nums[i] > nums[i-1]\n",
    "    i = len(nums) - 1\n",
    "    while i > 0 and nums[i] <= nums[i-1]:\n",
    "        i -= 1\n",
    "    \n",
    "    if i == 0:\n",
    "        # Step 2: Array is in descending order, reverse it\n",
    "        nums.reverse()\n",
    "        return\n",
    "    \n",
    "    # Step 3: Find the smallest element greater than nums[i-1] from the right\n",
    "    j = len(nums) - 1\n",
    "    while nums[j] <= nums[i-1]:\n",
    "        j -= 1\n",
    "    \n",
    "    # Step 4: Swap nums[i-1] and nums[j]\n",
    "    nums[i-1], nums[j] = nums[j], nums[i-1]\n",
    "    \n",
    "    # Reverse the subarray to the right of nums[i-1]\n",
    "    left = i\n",
    "    right = len(nums) - 1\n",
    "    while left < right:\n",
    "        nums[left], nums[right] = nums[right], nums[left]\n",
    "        left += 1\n",
    "        right -= 1\n",
    "\n",
    "nums = [1, 2, 3]\n",
    "nextPermutation(nums)\n",
    "print(nums) \n",
    "        "
   ]
  },
  {
   "cell_type": "code",
   "execution_count": 4,
   "id": "fdc9f64b-5949-4518-be2e-fd96ed6a0569",
   "metadata": {},
   "outputs": [],
   "source": [
    "# Question5:\n",
    "\n",
    "def plusOne(digits):\n",
    "    carry = 1\n",
    "    for i in range(len(digits) - 1, -1, -1):\n",
    "        digits[i] += carry\n",
    "        if digits[i] < 10:\n",
    "            carry = 0\n",
    "            break\n",
    "        digits[i] = 0\n",
    "    if carry == 1:\n",
    "        digits.insert(0, 1)\n",
    "    return digits\n"
   ]
  },
  {
   "cell_type": "code",
   "execution_count": 6,
   "id": "f6001caa-47f3-4bba-b32d-e06e02c81ad9",
   "metadata": {},
   "outputs": [
    {
     "name": "stdout",
     "output_type": "stream",
     "text": [
      "[1, 2, 4]\n"
     ]
    }
   ],
   "source": [
    "digits=[1,2,3]\n",
    "print(plusOne(digits))"
   ]
  },
  {
   "cell_type": "code",
   "execution_count": 7,
   "id": "25d3e250-3aa1-4976-bd03-f91b211fb7fe",
   "metadata": {},
   "outputs": [
    {
     "name": "stdout",
     "output_type": "stream",
     "text": [
      "1\n"
     ]
    }
   ],
   "source": [
    "# Question6:\n",
    "\n",
    "def singleNumber(nums):\n",
    "    result = 0\n",
    "    for num in nums:\n",
    "        result ^= num\n",
    "    return result\n",
    "\n",
    "# Test the function with the given example\n",
    "nums = [2, 2, 1]\n",
    "print(singleNumber(nums)) \n"
   ]
  },
  {
   "cell_type": "code",
   "execution_count": 8,
   "id": "2a0ea9a0-a589-4a91-81c3-bd023e28f0e9",
   "metadata": {},
   "outputs": [
    {
     "name": "stdout",
     "output_type": "stream",
     "text": [
      "['2', '4->49', '51->74', '76->99']\n"
     ]
    }
   ],
   "source": [
    "# Question7:\n",
    "\n",
    "def findMissingRanges(nums, lower, upper):\n",
    "    result = []\n",
    "    start = lower\n",
    "    for num in nums:\n",
    "        if num > start:\n",
    "            result.append(getRange(start, num - 1))\n",
    "        start = num + 1\n",
    "    if start <= upper:\n",
    "        result.append(getRange(start, upper))\n",
    "    return result\n",
    "\n",
    "def getRange(start, end):\n",
    "    if start == end:\n",
    "        return str(start)\n",
    "    else:\n",
    "        return str(start) + '->' + str(end)\n",
    "\n",
    "# Test case\n",
    "nums = [0,1,3,50,75]\n",
    "lower = 0\n",
    "upper = 99\n",
    "print(findMissingRanges(nums, lower, upper))\n"
   ]
  },
  {
   "cell_type": "code",
   "execution_count": 10,
   "id": "1e7fbb72-3b23-4158-b560-333b2e376f79",
   "metadata": {},
   "outputs": [
    {
     "name": "stdout",
     "output_type": "stream",
     "text": [
      "False\n"
     ]
    }
   ],
   "source": [
    "# Question8:\n",
    "\n",
    "def can_attend_meetings(intervals):\n",
    "    intervals.sort(key=lambda x: x[0])  # Sort intervals based on start times\n",
    "    \n",
    "    for i in range(1, len(intervals)):\n",
    "        if intervals[i][0] <= intervals[i-1][1]:\n",
    "            return False  # Overlapping intervals found\n",
    "        \n",
    "    return True  # No overlapping intervals found\n",
    "\n",
    "# Test the example case\n",
    "intervals = [[0, 30], [5, 10], [15, 20]]\n",
    "print(can_attend_meetings(intervals))\n"
   ]
  },
  {
   "cell_type": "code",
   "execution_count": null,
   "id": "2f0af69b-973a-4a14-a296-d8b870f3eb4a",
   "metadata": {},
   "outputs": [],
   "source": []
  }
 ],
 "metadata": {
  "kernelspec": {
   "display_name": "Python 3 (ipykernel)",
   "language": "python",
   "name": "python3"
  },
  "language_info": {
   "codemirror_mode": {
    "name": "ipython",
    "version": 3
   },
   "file_extension": ".py",
   "mimetype": "text/x-python",
   "name": "python",
   "nbconvert_exporter": "python",
   "pygments_lexer": "ipython3",
   "version": "3.10.6"
  }
 },
 "nbformat": 4,
 "nbformat_minor": 5
}
