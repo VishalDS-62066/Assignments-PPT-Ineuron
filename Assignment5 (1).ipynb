{
 "cells": [
  {
   "cell_type": "code",
   "execution_count": 2,
   "id": "e790585c-090d-4cc0-9694-34f05a3175a0",
   "metadata": {},
   "outputs": [
    {
     "name": "stdout",
     "output_type": "stream",
     "text": [
      "[[1, 2], [3, 4]]\n"
     ]
    }
   ],
   "source": [
    "# Question1:\n",
    "\n",
    "def convert_to_2d_array(original, m, n):\n",
    "    if m * n != len(original):\n",
    "        return []  # Return an empty 2D array if it is impossible to create one with the given dimensions\n",
    "\n",
    "    result = [[0] * n for _ in range(m)]  # Initialize the 2D array with zeros\n",
    "\n",
    "    for i in range(m):\n",
    "        for j in range(n):\n",
    "            result[i][j] = original[i * n + j]  # Assign each element from the original array to the corresponding position in the 2D array\n",
    "\n",
    "    return result\n",
    "\n",
    "original = [1, 2, 3, 4]\n",
    "m = 2\n",
    "n = 2\n",
    "result = convert_to_2d_array(original, m, n)\n",
    "print(result)\n"
   ]
  },
  {
   "cell_type": "code",
   "execution_count": 3,
   "id": "9cdc9244-f71a-4a7f-818e-1efa56b38333",
   "metadata": {},
   "outputs": [
    {
     "name": "stdout",
     "output_type": "stream",
     "text": [
      "4\n"
     ]
    }
   ],
   "source": [
    "# Question2:\n",
    "\n",
    "def find_complete_rows(n):\n",
    "    k = 1\n",
    "    while (k * (k + 1)) // 2 <= n:\n",
    "        k += 1\n",
    "    return k - 1\n",
    "\n",
    "print(find_complete_rows(14)) \n"
   ]
  },
  {
   "cell_type": "code",
   "execution_count": 4,
   "id": "0270be60-badb-4836-8800-ccf5d1ab4bf6",
   "metadata": {},
   "outputs": [
    {
     "name": "stdout",
     "output_type": "stream",
     "text": [
      "[0, 1, 9, 16, 100]\n"
     ]
    }
   ],
   "source": [
    "# Question3:\n",
    "\n",
    "def sortedSquares(nums):\n",
    "    left = 0\n",
    "    right = len(nums) - 1\n",
    "    result = []\n",
    "\n",
    "    while left <= right:\n",
    "        if abs(nums[left]) >= abs(nums[right]):\n",
    "            result.append(nums[left] ** 2)\n",
    "            left += 1\n",
    "        else:\n",
    "            result.append(nums[right] ** 2)\n",
    "            right -= 1\n",
    "\n",
    "    return result[::-1]\n",
    "\n",
    "nums = [-4, -1, 0, 3, 10]\n",
    "sorted_squares = sortedSquares(nums)\n",
    "print(sorted_squares)\n"
   ]
  },
  {
   "cell_type": "code",
   "execution_count": 5,
   "id": "c0b6617c-7fb2-4c30-8d0f-a5ba3b366b16",
   "metadata": {},
   "outputs": [
    {
     "name": "stdout",
     "output_type": "stream",
     "text": [
      "[[1, 3], [4, 6]]\n"
     ]
    }
   ],
   "source": [
    "# Question4:\n",
    "\n",
    "def findDistinct(nums1, nums2):\n",
    "    set1 = set(nums1)\n",
    "    set2 = set(nums2)\n",
    "    \n",
    "    ans1 = []\n",
    "    ans2 = []\n",
    "    \n",
    "    for num in set1:\n",
    "        if num not in set2:\n",
    "            ans1.append(num)\n",
    "            \n",
    "    for num in set2:\n",
    "        if num not in set1:\n",
    "            ans2.append(num)\n",
    "            \n",
    "    return [ans1, ans2]\n",
    "\n",
    "nums1 = [1, 2, 3]\n",
    "nums2 = [2, 4, 6]\n",
    "result = findDistinct(nums1, nums2)\n",
    "print(result)\n"
   ]
  },
  {
   "cell_type": "code",
   "execution_count": 6,
   "id": "abf0e2cb-9b15-4387-bfd2-e3f77ad08459",
   "metadata": {},
   "outputs": [
    {
     "name": "stdout",
     "output_type": "stream",
     "text": [
      "2\n"
     ]
    }
   ],
   "source": [
    "# Question5:\n",
    "\n",
    "def distance_value(arr1, arr2, d):\n",
    "    count = 0\n",
    "\n",
    "    for i in arr1:\n",
    "        found = False\n",
    "        for j in arr2:\n",
    "            if abs(i - j) <= d:\n",
    "                found = True\n",
    "                break\n",
    "\n",
    "        if not found:\n",
    "            count += 1\n",
    "\n",
    "    return count\n",
    "\n",
    "arr1 = [4, 5, 8]\n",
    "arr2 = [10, 9, 1, 8]\n",
    "d = 2\n",
    "\n",
    "print(distance_value(arr1, arr2, d))  \n"
   ]
  },
  {
   "cell_type": "code",
   "execution_count": 7,
   "id": "cc8c9f11-caa9-47db-8841-f96082531a9c",
   "metadata": {},
   "outputs": [
    {
     "name": "stdout",
     "output_type": "stream",
     "text": [
      "[2, 3]\n"
     ]
    }
   ],
   "source": [
    "# Question6:\n",
    "\n",
    "def findDuplicates(nums):\n",
    "    result = []\n",
    "    for num in nums:\n",
    "        index = abs(num)\n",
    "        if nums[index - 1] > 0:\n",
    "            nums[index - 1] *= -1\n",
    "        else:\n",
    "            result.append(index)\n",
    "    return result\n",
    "\n",
    "nums = [4, 3, 2, 7, 8, 2, 3, 1]\n",
    "print(findDuplicates(nums))\n"
   ]
  },
  {
   "cell_type": "code",
   "execution_count": 8,
   "id": "5300ea94-3a04-4504-87e5-2f5523030257",
   "metadata": {},
   "outputs": [],
   "source": [
    "# Question7:\n",
    "\n",
    "def findMin(nums):\n",
    "    left = 0\n",
    "    right = len(nums) - 1\n",
    "\n",
    "    while left < right:\n",
    "        mid = (left + right) // 2\n",
    "\n",
    "        if nums[mid] > nums[0] and nums[mid] > nums[-1]:\n",
    "            left = mid + 1\n",
    "        elif nums[mid] < nums[0] and nums[mid] < nums[-1]:\n",
    "            right = mid\n",
    "        else:\n",
    "            return nums[0]\n",
    "\n",
    "    return nums[left]\n"
   ]
  },
  {
   "cell_type": "code",
   "execution_count": 9,
   "id": "f5847757-b84c-4f35-b019-36f9c14e82ef",
   "metadata": {},
   "outputs": [
    {
     "name": "stdout",
     "output_type": "stream",
     "text": [
      "1\n"
     ]
    }
   ],
   "source": [
    "nums = [3,4,5,1,2]\n",
    "print(findMin(nums))"
   ]
  },
  {
   "cell_type": "code",
   "execution_count": 13,
   "id": "c788dd64-9853-4b00-8627-70c8c324280e",
   "metadata": {},
   "outputs": [
    {
     "name": "stdout",
     "output_type": "stream",
     "text": [
      "[]\n"
     ]
    }
   ],
   "source": [
    "# Question8:\n",
    "\n",
    "from collections import defaultdict\n",
    "\n",
    "def findOriginalArray(changed):\n",
    "    count = defaultdict(int)\n",
    "    for num in changed:\n",
    "        count[num] += 1\n",
    "\n",
    "    original = []\n",
    "    for num in changed:\n",
    "        if count[num] == 0:\n",
    "            continue\n",
    "        count[num] -= 1\n",
    "        if num % 2 == 0 and count[num // 2] > 0:\n",
    "            original.append(num // 2)\n",
    "\n",
    "    if len(original) == len(changed) // 2:\n",
    "        return original\n",
    "    else:\n",
    "        return []\n",
    "\n",
    "changed = [1, 3, 4, 2, 6, 8]\n",
    "original = findOriginalArray(changed)\n",
    "print(original)\n"
   ]
  },
  {
   "cell_type": "code",
   "execution_count": null,
   "id": "573ea885-0f15-407d-b994-12657c3ebf8d",
   "metadata": {},
   "outputs": [],
   "source": []
  }
 ],
 "metadata": {
  "kernelspec": {
   "display_name": "Python 3 (ipykernel)",
   "language": "python",
   "name": "python3"
  },
  "language_info": {
   "codemirror_mode": {
    "name": "ipython",
    "version": 3
   },
   "file_extension": ".py",
   "mimetype": "text/x-python",
   "name": "python",
   "nbconvert_exporter": "python",
   "pygments_lexer": "ipython3",
   "version": "3.10.6"
  }
 },
 "nbformat": 4,
 "nbformat_minor": 5
}
