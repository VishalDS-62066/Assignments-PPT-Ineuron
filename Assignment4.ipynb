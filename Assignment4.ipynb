{
 "cells": [
  {
   "cell_type": "code",
   "execution_count": 1,
   "id": "6cd4199b-96c9-44c1-9899-55c5713eed8b",
   "metadata": {},
   "outputs": [
    {
     "name": "stdout",
     "output_type": "stream",
     "text": [
      "[1, 5]\n"
     ]
    }
   ],
   "source": [
    "# Question1:\n",
    "\n",
    "def find_common_elements(arr1, arr2, arr3):\n",
    "    i = j = k = 0  # Pointers for each array\n",
    "    common_elements = []\n",
    "\n",
    "    while i < len(arr1) and j < len(arr2) and k < len(arr3):\n",
    "        # If the current elements in all three arrays are equal, it's a common element\n",
    "        if arr1[i] == arr2[j] == arr3[k]:\n",
    "            common_elements.append(arr1[i])\n",
    "            i += 1\n",
    "            j += 1\n",
    "            k += 1\n",
    "        else:\n",
    "            # If the current elements are not equal, move the pointer of the smallest element\n",
    "            min_val = min(arr1[i], arr2[j], arr3[k])\n",
    "            if min_val == arr1[i]:\n",
    "                i += 1\n",
    "            elif min_val == arr2[j]:\n",
    "                j += 1\n",
    "            else:\n",
    "                k += 1\n",
    "\n",
    "    return common_elements\n",
    "\n",
    "arr1 = [1, 2, 3, 4, 5]\n",
    "arr2 = [1, 2, 5, 7, 9]\n",
    "arr3 = [1, 3, 4, 5, 8]\n",
    "\n",
    "result = find_common_elements(arr1, arr2, arr3)\n",
    "print(result)  \n"
   ]
  },
  {
   "cell_type": "code",
   "execution_count": 2,
   "id": "acc3ddb0-cb85-45df-b7ba-20ded4eb977a",
   "metadata": {},
   "outputs": [
    {
     "name": "stdout",
     "output_type": "stream",
     "text": [
      "[[1, 3], [4, 6]]\n"
     ]
    }
   ],
   "source": [
    "# Quesation2:\n",
    "\n",
    "def findDisappearedNumbers(nums1, nums2):\n",
    "    nums1_set = set(nums1)\n",
    "    nums2_set = set(nums2)\n",
    "    not_in_nums2 = []\n",
    "    not_in_nums1 = []\n",
    "    \n",
    "    for num in nums1:\n",
    "        if num not in nums2_set:\n",
    "            not_in_nums2.append(num)\n",
    "    \n",
    "    for num in nums2:\n",
    "        if num not in nums1_set:\n",
    "            not_in_nums1.append(num)\n",
    "    \n",
    "    return [not_in_nums2, not_in_nums1]\n",
    "\n",
    "nums1 = [1, 2, 3]\n",
    "nums2 = [2, 4, 6]\n",
    "result = findDisappearedNumbers(nums1, nums2)\n",
    "print(result)\n"
   ]
  },
  {
   "cell_type": "code",
   "execution_count": 3,
   "id": "613ebb6c-cc53-4de9-831e-6fab32ca597e",
   "metadata": {},
   "outputs": [
    {
     "name": "stdout",
     "output_type": "stream",
     "text": [
      "[[1, 4, 7], [2, 5, 8], [3, 6, 9]]\n"
     ]
    }
   ],
   "source": [
    "# Question3:\n",
    "\n",
    "def transpose(matrix):\n",
    "    # Get the number of rows and columns in the matrix\n",
    "    rows = len(matrix)\n",
    "    cols = len(matrix[0])\n",
    "\n",
    "    # Create a new matrix with swapped dimensions\n",
    "    transposed = [[0 for _ in range(rows)] for _ in range(cols)]\n",
    "\n",
    "    # Iterate through the original matrix and assign values to the transposed matrix\n",
    "    for i in range(rows):\n",
    "        for j in range(cols):\n",
    "            transposed[j][i] = matrix[i][j]\n",
    "\n",
    "    return transposed\n",
    "\n",
    "matrix = [[1,2,3],[4,5,6],[7,8,9]]\n",
    "result = transpose(matrix)\n",
    "print(result)\n"
   ]
  },
  {
   "cell_type": "code",
   "execution_count": 4,
   "id": "61781fa9-f195-4b24-8bd5-b3e673250a20",
   "metadata": {},
   "outputs": [
    {
     "name": "stdout",
     "output_type": "stream",
     "text": [
      "4\n"
     ]
    }
   ],
   "source": [
    "# Question4:\n",
    "\n",
    "def array_pair_sum(nums):\n",
    "    nums.sort()\n",
    "    max_sum = 0\n",
    "    for i in range(0, len(nums), 2):\n",
    "        max_sum += nums[i]\n",
    "    return max_sum\n",
    "\n",
    "nums = [1, 4, 3, 2]\n",
    "print(array_pair_sum(nums))\n"
   ]
  },
  {
   "cell_type": "code",
   "execution_count": 7,
   "id": "28da58ac-d107-4cb2-9e8b-3a725f9bdd45",
   "metadata": {},
   "outputs": [
    {
     "name": "stdout",
     "output_type": "stream",
     "text": [
      "2\n",
      "4\n"
     ]
    }
   ],
   "source": [
    "# Question5:\n",
    "\n",
    "def arrangeCoins(n):\n",
    "    left, right = 0, n\n",
    "    \n",
    "    while left <= right:\n",
    "        k = (left + right) // 2\n",
    "        curr_sum = (k * (k + 1)) // 2\n",
    "        \n",
    "        if curr_sum == n:\n",
    "            return k\n",
    "        \n",
    "        if curr_sum > n:\n",
    "            right = k - 1\n",
    "        else:\n",
    "            left = k + 1\n",
    "    \n",
    "    return right\n",
    "\n",
    "print(arrangeCoins(5))  \n",
    "print(arrangeCoins(10))  \n"
   ]
  },
  {
   "cell_type": "code",
   "execution_count": 8,
   "id": "72c143e1-9191-4421-b171-b349c6f45dfd",
   "metadata": {},
   "outputs": [
    {
     "name": "stdout",
     "output_type": "stream",
     "text": [
      "[0, 1, 9, 16, 100]\n"
     ]
    }
   ],
   "source": [
    "# Question6:\n",
    "\n",
    "def sortedSquares(nums):\n",
    "    # Square each number in the array\n",
    "    squared_nums = [num * num for num in nums]\n",
    "\n",
    "    # Sort the squared numbers in non-decreasing order\n",
    "    squared_nums.sort()\n",
    "\n",
    "    return squared_nums\n",
    "\n",
    "nums = [-4, -1, 0, 3, 10]\n",
    "result = sortedSquares(nums)\n",
    "print(result)\n"
   ]
  },
  {
   "cell_type": "code",
   "execution_count": 12,
   "id": "c167db6f-fc03-49d9-b879-3dc0c68710fb",
   "metadata": {},
   "outputs": [],
   "source": [
    "\n",
    "\n",
    "def maxCount(m: int, n: int, ops: [[int]]) -> int:\n",
    "    min_a = m  # initialize min_a to m\n",
    "    min_b = n  # initialize min_b to n\n",
    "    \n",
    "    for op in ops:\n",
    "        min_a = min(min_a, op[0])  # update min_a\n",
    "        min_b = min(min_b, op[1])  # update min_b\n",
    "    \n",
    "    return min_a * min_b\n",
    "\n",
    "m=3\n",
    "n=3\n",
    "ops=[[2,2],[3,3]]"
   ]
  },
  {
   "cell_type": "code",
   "execution_count": 13,
   "id": "33a134b2-9daa-4ed6-84c8-3e016462a47c",
   "metadata": {},
   "outputs": [
    {
     "name": "stdout",
     "output_type": "stream",
     "text": [
      "4\n"
     ]
    }
   ],
   "source": [
    "print(maxCount(m,n,ops))"
   ]
  },
  {
   "cell_type": "code",
   "execution_count": null,
   "id": "5e2a31cc-e73c-4751-9122-8a0633a4d81e",
   "metadata": {},
   "outputs": [],
   "source": []
  }
 ],
 "metadata": {
  "kernelspec": {
   "display_name": "Python 3 (ipykernel)",
   "language": "python",
   "name": "python3"
  },
  "language_info": {
   "codemirror_mode": {
    "name": "ipython",
    "version": 3
   },
   "file_extension": ".py",
   "mimetype": "text/x-python",
   "name": "python",
   "nbconvert_exporter": "python",
   "pygments_lexer": "ipython3",
   "version": "3.10.6"
  }
 },
 "nbformat": 4,
 "nbformat_minor": 5
}
