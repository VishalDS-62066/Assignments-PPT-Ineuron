{
 "cells": [
  {
   "cell_type": "code",
   "execution_count": 1,
   "id": "ef28f69c-f602-436a-b6a3-aacaf6192d9f",
   "metadata": {},
   "outputs": [
    {
     "name": "stdout",
     "output_type": "stream",
     "text": [
      "[0, 4, 1, 3, 2]\n"
     ]
    }
   ],
   "source": [
    "# Question1:\n",
    "\n",
    "def reconstructPermutation(s):\n",
    "    n = len(s)\n",
    "    perm = []\n",
    "    low, high = 0, n\n",
    "    \n",
    "    for c in s:\n",
    "        if c == 'I':\n",
    "            perm.append(low)\n",
    "            low += 1\n",
    "        elif c == 'D':\n",
    "            perm.append(high)\n",
    "            high -= 1\n",
    "    \n",
    "    perm.append(low)  # Append either low or high (they have the same value)\n",
    "    return perm\n",
    "\n",
    "s = \"IDID\"\n",
    "reconstructed_permutation = reconstructPermutation(s)\n",
    "print(reconstructed_permutation)\n"
   ]
  },
  {
   "cell_type": "code",
   "execution_count": 2,
   "id": "bf8696e7-715d-4da7-ab2a-6fd3ca871e90",
   "metadata": {},
   "outputs": [
    {
     "name": "stdout",
     "output_type": "stream",
     "text": [
      "True\n"
     ]
    }
   ],
   "source": [
    "# Question2:\n",
    "\n",
    "def searchMatrix(matrix, target):\n",
    "    m = len(matrix)\n",
    "    n = len(matrix[0])\n",
    "    left = 0\n",
    "    right = m * n - 1\n",
    "    \n",
    "    while left <= right:\n",
    "        mid = (left + right) // 2\n",
    "        row = mid // n\n",
    "        col = mid % n\n",
    "        if matrix[row][col] == target:\n",
    "            return True\n",
    "        elif matrix[row][col] < target:\n",
    "            left = mid + 1\n",
    "        else:\n",
    "            right = mid - 1\n",
    "    \n",
    "    return False\n",
    "\n",
    "matrix = [[1, 3, 5, 7], [10, 11, 16, 20], [23, 30, 34, 60]]\n",
    "target = 3\n",
    "result = searchMatrix(matrix, target)\n",
    "print(result)\n"
   ]
  },
  {
   "cell_type": "code",
   "execution_count": 4,
   "id": "0c5f1b43-e3b0-4033-a528-6548e90afcb4",
   "metadata": {},
   "outputs": [
    {
     "name": "stdout",
     "output_type": "stream",
     "text": [
      "False\n",
      "False\n",
      "True\n",
      "False\n",
      "False\n",
      "True\n"
     ]
    }
   ],
   "source": [
    "# Question3:\n",
    "\n",
    "def validMountainArray(arr):\n",
    "    if len(arr) < 3:\n",
    "        return False\n",
    "    \n",
    "    i = 1\n",
    "    while i < len(arr) - 1 and arr[i] > arr[i - 1]:\n",
    "        i += 1\n",
    "    \n",
    "    if i == 1 or i == len(arr) - 1:\n",
    "        return False\n",
    "    \n",
    "    for j in range(i - 1):\n",
    "        if arr[j] >= arr[j + 1]:\n",
    "            return False\n",
    "    \n",
    "    for j in range(i, len(arr) - 1):\n",
    "        if arr[j] <= arr[j + 1]:\n",
    "            return False\n",
    "    \n",
    "    return True\n",
    "\n",
    "\n",
    "arr1 = [2, 1]\n",
    "arr2 = [3, 5, 5]\n",
    "arr3 = [0, 3, 2, 1]\n",
    "arr4 = [1, 2, 3, 4, 5]\n",
    "arr5 = [5, 4, 3, 2, 1]\n",
    "arr6 = [1, 2, 3, 2, 1]\n",
    "\n",
    "print(validMountainArray(arr1))  \n",
    "print(validMountainArray(arr2))\n",
    "print(validMountainArray(arr3))  \n",
    "print(validMountainArray(arr4))  \n",
    "print(validMountainArray(arr5))  \n",
    "print(validMountainArray(arr6))  \n"
   ]
  },
  {
   "cell_type": "code",
   "execution_count": 5,
   "id": "e6603083-0a75-4a91-bc8a-2bfb244e73f9",
   "metadata": {},
   "outputs": [
    {
     "name": "stdout",
     "output_type": "stream",
     "text": [
      "2\n"
     ]
    }
   ],
   "source": [
    "# QUESTION4:\n",
    "\n",
    "def findMaxLength(nums):\n",
    "    max_length = 0\n",
    "    count = 0\n",
    "    prefix_sum = {0: -1}\n",
    "    \n",
    "    for i in range(len(nums)):\n",
    "        if nums[i] == 0:\n",
    "            count -= 1\n",
    "        else:\n",
    "            count += 1\n",
    "        \n",
    "        if count in prefix_sum:\n",
    "            max_length = max(max_length, i - prefix_sum[count])\n",
    "        else:\n",
    "            prefix_sum[count] = i\n",
    "    \n",
    "    return max_length\n",
    "\n",
    "nums = [0, 1]\n",
    "result = findMaxLength(nums)\n",
    "print(result)\n"
   ]
  },
  {
   "cell_type": "code",
   "execution_count": 6,
   "id": "b2721246-97a5-449d-b0e6-7e9a16fcdb03",
   "metadata": {},
   "outputs": [
    {
     "name": "stdout",
     "output_type": "stream",
     "text": [
      "40\n"
     ]
    }
   ],
   "source": [
    "# Question5:\n",
    "\n",
    "def minProductSum(nums1, nums2):\n",
    "    nums1.sort()\n",
    "    nums2.sort(reverse=True)\n",
    "    min_product_sum = 0\n",
    "    \n",
    "    for i in range(len(nums1)):\n",
    "        min_product_sum += nums1[i] * nums2[i]\n",
    "    \n",
    "    return min_product_sum\n",
    "\n",
    "nums1 = [5, 3, 4, 2]\n",
    "nums2 = [4, 2, 2, 5]\n",
    "result = minProductSum(nums1, nums2)\n",
    "print(result)\n"
   ]
  },
  {
   "cell_type": "code",
   "execution_count": 7,
   "id": "54776bd4-102b-451e-a6cb-4eb38b402006",
   "metadata": {},
   "outputs": [
    {
     "name": "stdout",
     "output_type": "stream",
     "text": [
      "[]\n"
     ]
    }
   ],
   "source": [
    "# Question6:\n",
    "\n",
    "def findOriginalArray(changed):\n",
    "    count = {}\n",
    "    for num in changed:\n",
    "        count[num] = count.get(num, 0) + 1\n",
    "    \n",
    "    changed.sort()\n",
    "    original = []\n",
    "    \n",
    "    for num in changed:\n",
    "        if num / 2 not in count or count[num / 2] == 0:\n",
    "            return []\n",
    "        original.append(num / 2)\n",
    "        count[num / 2] -= 1\n",
    "    \n",
    "    return original\n",
    "\n",
    "changed = [1, 3, 4, 2, 6, 8]\n",
    "result = findOriginalArray(changed)\n",
    "print(result)\n"
   ]
  },
  {
   "cell_type": "code",
   "execution_count": 8,
   "id": "23429ced-1098-481b-9061-4b893ad69bd3",
   "metadata": {},
   "outputs": [
    {
     "name": "stdout",
     "output_type": "stream",
     "text": [
      "[[1, 2, 3], [8, 9, 4], [7, 6, 5]]\n"
     ]
    }
   ],
   "source": [
    "# Question7:\n",
    "\n",
    "def generateMatrix(n):\n",
    "    matrix = [[0] * n for _ in range(n)]\n",
    "    num = 1\n",
    "    layer = 0\n",
    "    \n",
    "    while num <= n * n:\n",
    "        # Traverse top row\n",
    "        for i in range(layer, n - layer):\n",
    "            matrix[layer][i] = num\n",
    "            num += 1\n",
    "        \n",
    "        # Traverse right column\n",
    "        for i in range(layer + 1, n - layer):\n",
    "            matrix[i][n - layer - 1] = num\n",
    "            num += 1\n",
    "        \n",
    "        # Traverse bottom row\n",
    "        for i in range(n - layer - 2, layer - 1, -1):\n",
    "            matrix[n - layer - 1][i] = num\n",
    "            num += 1\n",
    "        \n",
    "        # Traverse left column\n",
    "        for i in range(n - layer - 2, layer, -1):\n",
    "            matrix[i][layer] = num\n",
    "            num += 1\n",
    "        \n",
    "        # Move to the next layer\n",
    "        layer += 1\n",
    "    \n",
    "    return matrix\n",
    "\n",
    "n = 3\n",
    "result = generateMatrix(n)\n",
    "print(result)\n"
   ]
  },
  {
   "cell_type": "code",
   "execution_count": 9,
   "id": "013e3786-8d9c-404e-996f-8c792dcdec35",
   "metadata": {},
   "outputs": [
    {
     "name": "stdout",
     "output_type": "stream",
     "text": [
      "[[7, 0, 0], [-7, 0, 3]]\n"
     ]
    }
   ],
   "source": [
    "# Question8:\n",
    "\n",
    "def multiply(mat1, mat2):\n",
    "    m, k, n = len(mat1), len(mat1[0]), len(mat2[0])\n",
    "    result = [[0] * n for _ in range(m)]\n",
    "    \n",
    "    for i in range(m):\n",
    "        for j in range(n):\n",
    "            for x in range(k):\n",
    "                if mat1[i][x] != 0 and mat2[x][j] != 0:\n",
    "                    result[i][j] += mat1[i][x] * mat2[x][j]\n",
    "    \n",
    "    return result\n",
    "\n",
    "mat1 = [[1, 0, 0], [-1, 0, 3]]\n",
    "mat2 = [[7, 0, 0], [0, 0, 0], [0, 0, 1]]\n",
    "result = multiply(mat1, mat2)\n",
    "print(result)\n"
   ]
  },
  {
   "cell_type": "code",
   "execution_count": null,
   "id": "e62582ac-d523-4eff-8df9-a51442294d96",
   "metadata": {},
   "outputs": [],
   "source": []
  }
 ],
 "metadata": {
  "kernelspec": {
   "display_name": "Python 3 (ipykernel)",
   "language": "python",
   "name": "python3"
  },
  "language_info": {
   "codemirror_mode": {
    "name": "ipython",
    "version": 3
   },
   "file_extension": ".py",
   "mimetype": "text/x-python",
   "name": "python",
   "nbconvert_exporter": "python",
   "pygments_lexer": "ipython3",
   "version": "3.10.6"
  }
 },
 "nbformat": 4,
 "nbformat_minor": 5
}
